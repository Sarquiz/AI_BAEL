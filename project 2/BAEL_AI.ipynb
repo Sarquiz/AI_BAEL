{
 "cells": [
  {
   "cell_type": "markdown",
   "metadata": {},
   "source": [
    "# Chat Bot AI: BAEL \n",
    "    #Creacion de una Chatbot con inteligencia Artificial llamado \"BAEL\" \n",
    "    #Estara al principio de modo prueba para afianzar las cualidades y la finalidad comercial\n",
    "    #definida\n",
    "    \n",
    "    \n",
    "    #Descargar: chatterbot-corpus-master on github \"dowload in formato zip"
   ]
  },
  {
   "cell_type": "code",
   "execution_count": null,
   "metadata": {},
   "outputs": [],
   "source": [
    "import os"
   ]
  },
  {
   "cell_type": "code",
   "execution_count": null,
   "metadata": {},
   "outputs": [],
   "source": [
    "os.listdir('chatterbot-corpus-master/chatterbot_corpus/data')\n",
    "#play"
   ]
  },
  {
   "cell_type": "code",
   "execution_count": null,
   "metadata": {},
   "outputs": [],
   "source": [
    "from chatterbot import ChatBot\n",
    "from chatterbot.trainers import ListTrainer\n",
    "import os"
   ]
  },
  {
   "cell_type": "code",
   "execution_count": null,
   "metadata": {},
   "outputs": [],
   "source": [
    "kgp = ChatBot('Bot')"
   ]
  },
  {
   "cell_type": "code",
   "execution_count": null,
   "metadata": {},
   "outputs": [],
   "source": [
    "kgp.set_trainer(ListTrainer)"
   ]
  },
  {
   "cell_type": "code",
   "execution_count": null,
   "metadata": {},
   "outputs": [],
   "source": [
    "for f in os.listdir('chatterbot-corpus-master/chatterbot_corpus/data/english'):\n",
    "    data = open('chatterbot-corpus-master/chatterbot_corpus/data/english/'+f).readline()\n",
    "    kgp.train(data)\n",
    "    #Play to start \"THE SOFTWARE\""
   ]
  },
  {
   "cell_type": "code",
   "execution_count": null,
   "metadata": {},
   "outputs": [],
   "source": [
    "kgp.get_response('What is ai')\n",
    "#play to obtain answer"
   ]
  },
  {
   "cell_type": "code",
   "execution_count": null,
   "metadata": {},
   "outputs": [],
   "source": [
    "while True:\n",
    "    ip = input(\"Chat with the bot\")\n",
    "    if ip=='bye' or ip=='Bye':\n",
    "        break\n",
    "    if ip1='bye' or ip1='Bye':\n",
    "        reply=kgp.get_response(ip)\n",
    "        print('bot reply: ', reply)\n",
    "    "
   ]
  },
  {
   "cell_type": "code",
   "execution_count": null,
   "metadata": {},
   "outputs": [],
   "source": []
  }
 ],
 "metadata": {
  "kernelspec": {
   "display_name": "Python 3",
   "language": "python",
   "name": "python3"
  },
  "language_info": {
   "codemirror_mode": {
    "name": "ipython",
    "version": 3
   },
   "file_extension": ".py",
   "mimetype": "text/x-python",
   "name": "python",
   "nbconvert_exporter": "python",
   "pygments_lexer": "ipython3",
   "version": "3.8.5"
  }
 },
 "nbformat": 4,
 "nbformat_minor": 5
}
